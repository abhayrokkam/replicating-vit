{
 "cells": [
  {
   "cell_type": "code",
   "execution_count": null,
   "metadata": {},
   "outputs": [],
   "source": [
    "import torch\n",
    "import torchvision\n",
    "\n",
    "from pathlib import Path"
   ]
  },
  {
   "cell_type": "code",
   "execution_count": null,
   "metadata": {},
   "outputs": [],
   "source": [
    "# Device agnostic code\n",
    "device = 'cuda' if torch.cuda.is_available() else 'cpu'"
   ]
  },
  {
   "cell_type": "code",
   "execution_count": null,
   "metadata": {},
   "outputs": [],
   "source": [
    "# Hyperparameters\n",
    "BATCH_SIZE = 32\n",
    "\n",
    "# Patches\n",
    "PATCH_SIZE = (16, 16)\n",
    "NUM_PATCHES = int((224 / 16) ** 2)\n",
    "\n",
    "# Patches to Embeddings\n",
    "EMBED_DIMS = 768"
   ]
  },
  {
   "cell_type": "markdown",
   "metadata": {},
   "source": [
    "# Data"
   ]
  },
  {
   "cell_type": "code",
   "execution_count": null,
   "metadata": {},
   "outputs": [],
   "source": [
    "# Data paths\n",
    "data_path = Path('./data/desserts')\n",
    "train_path = data_path / 'train'\n",
    "test_path = data_path / 'test'"
   ]
  },
  {
   "cell_type": "code",
   "execution_count": null,
   "metadata": {},
   "outputs": [],
   "source": [
    "# Visualizing images\n",
    "from easyimages import EasyImageList\n",
    "\n",
    "Li = EasyImageList.from_multilevel_folder(train_path)\n",
    "Li.html(sample = 5, size = 150)"
   ]
  },
  {
   "cell_type": "code",
   "execution_count": null,
   "metadata": {},
   "outputs": [],
   "source": [
    "# Dataset transforms\n",
    "train_transform = torchvision.transforms.Compose(\n",
    "    [torchvision.transforms.Resize(size = (224, 224)),\n",
    "     torchvision.transforms.TrivialAugmentWide(num_magnitude_bins=31),\n",
    "     torchvision.transforms.ToTensor()]\n",
    ")\n",
    "\n",
    "test_transform = torchvision.transforms.Compose(\n",
    "    [torchvision.transforms.Resize(size = (224, 224)),\n",
    "     torchvision.transforms.ToTensor()]\n",
    ")\n",
    "\n",
    "# Datasets\n",
    "train_dataset = torchvision.datasets.ImageFolder(root=train_path,\n",
    "                                                 transform=train_transform,\n",
    "                                                 target_transform=None)\n",
    "\n",
    "test_dataset = torchvision.datasets.ImageFolder(root=test_path,\n",
    "                                                transform=test_transform,\n",
    "                                                target_transform=None)"
   ]
  },
  {
   "cell_type": "code",
   "execution_count": null,
   "metadata": {},
   "outputs": [],
   "source": [
    "# Class labels\n",
    "class_labels = train_dataset.classes\n",
    "print(class_labels)"
   ]
  },
  {
   "cell_type": "code",
   "execution_count": null,
   "metadata": {},
   "outputs": [],
   "source": [
    "# Dataloaders\n",
    "train_dataloader = torch.utils.data.DataLoader(dataset=train_dataset,\n",
    "                                               batch_size=BATCH_SIZE,\n",
    "                                               shuffle=True,\n",
    "                                               pin_memory=True)\n",
    "\n",
    "test_dataloader = torch.utils.data.DataLoader(dataset=test_dataset,\n",
    "                                              batch_size=BATCH_SIZE,\n",
    "                                              shuffle=False,\n",
    "                                              pin_memory=True)"
   ]
  },
  {
   "cell_type": "markdown",
   "metadata": {},
   "source": [
    "# Encoder Input (Patch Embeddings)"
   ]
  },
  {
   "cell_type": "code",
   "execution_count": null,
   "metadata": {},
   "outputs": [],
   "source": [
    "batch_X, batch_y = next(iter(train_dataloader))\n",
    "\n",
    "print(f\"Image shape: {batch_X.shape} -> (batch_dim, color_channels, image_height, image_width)\")"
   ]
  },
  {
   "cell_type": "code",
   "execution_count": null,
   "metadata": {},
   "outputs": [],
   "source": [
    "embed_patch_processing = torch.nn.Sequential(\n",
    "    torch.nn.Conv2d(in_channels=3,                  # Input -> (32, 3, 224, 224)\n",
    "                    out_channels=EMBED_DIMS,\n",
    "                    kernel_size=PATCH_SIZE,\n",
    "                    stride=PATCH_SIZE),             # Output -> (32, 768, 14, 14)\n",
    "    torch.nn.Flatten(start_dim=2, end_dim=3),       # Output -> (32, 768, 196)\n",
    ")"
   ]
  },
  {
   "cell_type": "code",
   "execution_count": null,
   "metadata": {},
   "outputs": [],
   "source": [
    "patch_embeddings = embed_patch_processing(batch_X)\n",
    "print(f\"Output shape: {patch_embeddings.shape} -> (batch_dim, embedding_dims, num_patches)\")"
   ]
  },
  {
   "cell_type": "code",
   "execution_count": null,
   "metadata": {},
   "outputs": [],
   "source": [
    "# Rearrange the dimensions for better readability\n",
    "    # Change to -> (batch_dim, num_patches, embedding_dims)\n",
    "    #######################################################\n",
    "    # Number of datapoints in each batch -> batch_dim\n",
    "    # Number of patches in each datapoint -> num_patches\n",
    "    # Number of dimensions in each patch -> embedding_dims\n",
    "    #######################################################\n",
    "patch_embeddings = patch_embeddings.permute(0, 2, 1)\n",
    "print(f\"Rearranged output shape: {patch_embeddings.shape} -> (batch_dim, num_patches, embedding_dims)\")"
   ]
  },
  {
   "cell_type": "markdown",
   "metadata": {},
   "source": [
    "# Encoder Input (Prepend Class Embeddings)"
   ]
  },
  {
   "cell_type": "code",
   "execution_count": null,
   "metadata": {},
   "outputs": [],
   "source": [
    "# Class embedding (Learnable embedding)\n",
    "class_embedding = torch.nn.Parameter(torch.randn(size=(1, EMBED_DIMS)),\n",
    "                                     requires_grad=True)\n",
    "\n",
    "# Expanding same rand numbers across all data in a batch\n",
    "class_embedding = class_embedding.expand(BATCH_SIZE, -1, -1)\n",
    "\n",
    "print(f\"Shape of class embedding to be prepended: {class_embedding.shape} -> (batch_dim, num_patches, embedding_dims)\")"
   ]
  },
  {
   "cell_type": "code",
   "execution_count": null,
   "metadata": {},
   "outputs": [],
   "source": [
    "# Adding the class embedding\n",
    "embeddings = torch.cat([class_embedding, patch_embeddings], dim=1)\n",
    "\n",
    "print(f\"Shape of the embeddings with patch and class embeddings together: {embeddings.shape} -> (batch_dim, num_embeddings, embedding_dims)\")"
   ]
  },
  {
   "cell_type": "markdown",
   "metadata": {},
   "source": [
    "# Encoder Input (Positional Embeddings)"
   ]
  },
  {
   "cell_type": "code",
   "execution_count": null,
   "metadata": {},
   "outputs": [],
   "source": [
    "# Positional embeddings\n",
    "positional_embeddings = torch.nn.Parameter(torch.randn(size=(NUM_PATCHES + 1, EMBED_DIMS)),\n",
    "                                                       requires_grad=True)\n",
    "\n",
    "# Expanding same rand numbers across all data in a batch\n",
    "positional_embeddings = positional_embeddings.expand(size=(BATCH_SIZE, -1, -1))\n",
    "\n",
    "print(f\"Shape of positional embeddings to be added: {positional_embeddings.shape} -> (batch_dim, num_patches, embedding_dims)\")"
   ]
  },
  {
   "cell_type": "code",
   "execution_count": null,
   "metadata": {},
   "outputs": [],
   "source": [
    "# Adding the postional embeddings\n",
    "embeddings += positional_embeddings"
   ]
  }
 ],
 "metadata": {
  "kernelspec": {
   "display_name": ".replicating-vit",
   "language": "python",
   "name": "python3"
  },
  "language_info": {
   "codemirror_mode": {
    "name": "ipython",
    "version": 3
   },
   "file_extension": ".py",
   "mimetype": "text/x-python",
   "name": "python",
   "nbconvert_exporter": "python",
   "pygments_lexer": "ipython3",
   "version": "3.12.3"
  }
 },
 "nbformat": 4,
 "nbformat_minor": 2
}
