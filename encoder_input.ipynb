{
 "cells": [
  {
   "cell_type": "code",
   "execution_count": 91,
   "metadata": {},
   "outputs": [],
   "source": [
    "import torch\n",
    "import torchvision\n",
    "\n",
    "from pathlib import Path"
   ]
  },
  {
   "cell_type": "code",
   "execution_count": 92,
   "metadata": {},
   "outputs": [],
   "source": [
    "# Device agnostic code\n",
    "device = 'cuda' if torch.cuda.is_available() else 'cpu'"
   ]
  },
  {
   "cell_type": "code",
   "execution_count": 93,
   "metadata": {},
   "outputs": [],
   "source": [
    "# Hyperparameters\n",
    "BATCH_SIZE = 32\n",
    "\n",
    "# Patches\n",
    "NUM_PATCHES = int((224 / 16) ** 2)\n",
    "PATCH_SIZE = (16, 16)\n",
    "\n",
    "# Patches to Embeddings\n",
    "EMBED_DIMS = 768"
   ]
  },
  {
   "cell_type": "markdown",
   "metadata": {},
   "source": [
    "# Data"
   ]
  },
  {
   "cell_type": "code",
   "execution_count": 94,
   "metadata": {},
   "outputs": [],
   "source": [
    "# Data paths\n",
    "data_path = Path('./data/desserts')\n",
    "train_path = data_path / 'train'\n",
    "test_path = data_path / 'test'"
   ]
  },
  {
   "cell_type": "code",
   "execution_count": 95,
   "metadata": {},
   "outputs": [
    {
     "name": "stdout",
     "output_type": "stream",
     "text": [
      "Drawing cannoli\n"
     ]
    },
    {
     "data": {
      "text/html": [
       "<div class=\"zoom\"><img style='width: 150px; height: 150px; margin: 1px; float: left; border: 0px solid black;'title=['cannoli'] src='data/desserts/train/cannoli/3768100.jpg'/></div><div class=\"zoom\"><img style='width: 150px; height: 150px; margin: 1px; float: left; border: 0px solid black;'title=['cannoli'] src='data/desserts/train/cannoli/2679829.jpg'/></div><div class=\"zoom\"><img style='width: 150px; height: 150px; margin: 1px; float: left; border: 0px solid black;'title=['cannoli'] src='data/desserts/train/cannoli/2731691.jpg'/></div><div class=\"zoom\"><img style='width: 150px; height: 150px; margin: 1px; float: left; border: 0px solid black;'title=['cannoli'] src='data/desserts/train/cannoli/1594501.jpg'/></div><div class=\"zoom\"><img style='width: 150px; height: 150px; margin: 1px; float: left; border: 0px solid black;'title=['cannoli'] src='data/desserts/train/cannoli/3318095.jpg'/></div>"
      ],
      "text/plain": [
       "<IPython.core.display.HTML object>"
      ]
     },
     "metadata": {},
     "output_type": "display_data"
    },
    {
     "name": "stdout",
     "output_type": "stream",
     "text": [
      "Drawing donuts\n"
     ]
    },
    {
     "data": {
      "text/html": [
       "<div class=\"zoom\"><img style='width: 150px; height: 150px; margin: 1px; float: left; border: 0px solid black;'title=['donuts'] src='data/desserts/train/donuts/1610281.jpg'/></div><div class=\"zoom\"><img style='width: 150px; height: 150px; margin: 1px; float: left; border: 0px solid black;'title=['donuts'] src='data/desserts/train/donuts/3307734.jpg'/></div><div class=\"zoom\"><img style='width: 150px; height: 150px; margin: 1px; float: left; border: 0px solid black;'title=['donuts'] src='data/desserts/train/donuts/1023706.jpg'/></div><div class=\"zoom\"><img style='width: 150px; height: 150px; margin: 1px; float: left; border: 0px solid black;'title=['donuts'] src='data/desserts/train/donuts/2893432.jpg'/></div><div class=\"zoom\"><img style='width: 150px; height: 150px; margin: 1px; float: left; border: 0px solid black;'title=['donuts'] src='data/desserts/train/donuts/2466115.jpg'/></div>"
      ],
      "text/plain": [
       "<IPython.core.display.HTML object>"
      ]
     },
     "metadata": {},
     "output_type": "display_data"
    },
    {
     "name": "stdout",
     "output_type": "stream",
     "text": [
      "Drawing pancakes\n"
     ]
    },
    {
     "data": {
      "text/html": [
       "<div class=\"zoom\"><img style='width: 150px; height: 150px; margin: 1px; float: left; border: 0px solid black;'title=['pancakes'] src='data/desserts/train/pancakes/2199727.jpg'/></div><div class=\"zoom\"><img style='width: 150px; height: 150px; margin: 1px; float: left; border: 0px solid black;'title=['pancakes'] src='data/desserts/train/pancakes/491480.jpg'/></div><div class=\"zoom\"><img style='width: 150px; height: 150px; margin: 1px; float: left; border: 0px solid black;'title=['pancakes'] src='data/desserts/train/pancakes/2820287.jpg'/></div><div class=\"zoom\"><img style='width: 150px; height: 150px; margin: 1px; float: left; border: 0px solid black;'title=['pancakes'] src='data/desserts/train/pancakes/3041237.jpg'/></div><div class=\"zoom\"><img style='width: 150px; height: 150px; margin: 1px; float: left; border: 0px solid black;'title=['pancakes'] src='data/desserts/train/pancakes/13285.jpg'/></div>"
      ],
      "text/plain": [
       "<IPython.core.display.HTML object>"
      ]
     },
     "metadata": {},
     "output_type": "display_data"
    },
    {
     "name": "stdout",
     "output_type": "stream",
     "text": [
      "Drawing tiramisu\n"
     ]
    },
    {
     "data": {
      "text/html": [
       "<div class=\"zoom\"><img style='width: 150px; height: 150px; margin: 1px; float: left; border: 0px solid black;'title=['tiramisu'] src='data/desserts/train/tiramisu/2893276.jpg'/></div><div class=\"zoom\"><img style='width: 150px; height: 150px; margin: 1px; float: left; border: 0px solid black;'title=['tiramisu'] src='data/desserts/train/tiramisu/1851779.jpg'/></div><div class=\"zoom\"><img style='width: 150px; height: 150px; margin: 1px; float: left; border: 0px solid black;'title=['tiramisu'] src='data/desserts/train/tiramisu/3609474.jpg'/></div><div class=\"zoom\"><img style='width: 150px; height: 150px; margin: 1px; float: left; border: 0px solid black;'title=['tiramisu'] src='data/desserts/train/tiramisu/2680.jpg'/></div><div class=\"zoom\"><img style='width: 150px; height: 150px; margin: 1px; float: left; border: 0px solid black;'title=['tiramisu'] src='data/desserts/train/tiramisu/1267027.jpg'/></div>"
      ],
      "text/plain": [
       "<IPython.core.display.HTML object>"
      ]
     },
     "metadata": {},
     "output_type": "display_data"
    },
    {
     "name": "stdout",
     "output_type": "stream",
     "text": [
      "Drawing waffles\n"
     ]
    },
    {
     "data": {
      "text/html": [
       "<div class=\"zoom\"><img style='width: 150px; height: 150px; margin: 1px; float: left; border: 0px solid black;'title=['waffles'] src='data/desserts/train/waffles/2879036.jpg'/></div><div class=\"zoom\"><img style='width: 150px; height: 150px; margin: 1px; float: left; border: 0px solid black;'title=['waffles'] src='data/desserts/train/waffles/3253743.jpg'/></div><div class=\"zoom\"><img style='width: 150px; height: 150px; margin: 1px; float: left; border: 0px solid black;'title=['waffles'] src='data/desserts/train/waffles/1716836.jpg'/></div><div class=\"zoom\"><img style='width: 150px; height: 150px; margin: 1px; float: left; border: 0px solid black;'title=['waffles'] src='data/desserts/train/waffles/1540934.jpg'/></div><div class=\"zoom\"><img style='width: 150px; height: 150px; margin: 1px; float: left; border: 0px solid black;'title=['waffles'] src='data/desserts/train/waffles/2944828.jpg'/></div>"
      ],
      "text/plain": [
       "<IPython.core.display.HTML object>"
      ]
     },
     "metadata": {},
     "output_type": "display_data"
    }
   ],
   "source": [
    "# Visualizing images\n",
    "from easyimages import EasyImageList\n",
    "\n",
    "Li = EasyImageList.from_multilevel_folder(train_path)\n",
    "Li.html(sample = 5, size = 150)"
   ]
  },
  {
   "cell_type": "code",
   "execution_count": 96,
   "metadata": {},
   "outputs": [],
   "source": [
    "# Dataset transforms\n",
    "train_transform = torchvision.transforms.Compose(\n",
    "    [torchvision.transforms.Resize(size = (224, 224)),\n",
    "     torchvision.transforms.TrivialAugmentWide(num_magnitude_bins=31),\n",
    "     torchvision.transforms.ToTensor()]\n",
    ")\n",
    "\n",
    "test_transform = torchvision.transforms.Compose(\n",
    "    [torchvision.transforms.Resize(size = (224, 224)),\n",
    "     torchvision.transforms.ToTensor()]\n",
    ")\n",
    "\n",
    "# Datasets\n",
    "train_dataset = torchvision.datasets.ImageFolder(root=train_path,\n",
    "                                                 transform=train_transform,\n",
    "                                                 target_transform=None)\n",
    "\n",
    "test_dataset = torchvision.datasets.ImageFolder(root=test_path,\n",
    "                                                transform=test_transform,\n",
    "                                                target_transform=None)"
   ]
  },
  {
   "cell_type": "code",
   "execution_count": 97,
   "metadata": {},
   "outputs": [
    {
     "name": "stdout",
     "output_type": "stream",
     "text": [
      "['cannoli', 'donuts', 'pancakes', 'tiramisu', 'waffles']\n"
     ]
    }
   ],
   "source": [
    "# Class labels\n",
    "class_labels = train_dataset.classes\n",
    "print(class_labels)"
   ]
  },
  {
   "cell_type": "code",
   "execution_count": 98,
   "metadata": {},
   "outputs": [],
   "source": [
    "# Dataloaders\n",
    "train_dataloader = torch.utils.data.DataLoader(dataset=train_dataset,\n",
    "                                               batch_size=BATCH_SIZE,\n",
    "                                               shuffle=True,\n",
    "                                               pin_memory=True)\n",
    "\n",
    "test_dataloader = torch.utils.data.DataLoader(dataset=test_dataset,\n",
    "                                              batch_size=BATCH_SIZE,\n",
    "                                              shuffle=False,\n",
    "                                              pin_memory=True)"
   ]
  },
  {
   "cell_type": "markdown",
   "metadata": {},
   "source": [
    "# Encoder Input (Patch Embeddings)"
   ]
  },
  {
   "cell_type": "code",
   "execution_count": 99,
   "metadata": {},
   "outputs": [
    {
     "name": "stdout",
     "output_type": "stream",
     "text": [
      "Image shape: torch.Size([32, 3, 224, 224]) -> (batch_dim, color_channels, image_height, image_width)\n"
     ]
    }
   ],
   "source": [
    "batch_X, batch_y = next(iter(train_dataloader))\n",
    "\n",
    "print(f\"Image shape: {batch_X.shape} -> (batch_dim, color_channels, image_height, image_width)\")"
   ]
  },
  {
   "cell_type": "code",
   "execution_count": 100,
   "metadata": {},
   "outputs": [],
   "source": [
    "embed_patch_processing = torch.nn.Sequential(\n",
    "    torch.nn.Conv2d(in_channels=3,                  # Input -> (32, 3, 224, 224)\n",
    "                    out_channels=EMBED_DIMS,\n",
    "                    kernel_size=PATCH_SIZE,\n",
    "                    stride=PATCH_SIZE),             # Output -> (32, 768, 14, 14)\n",
    "    torch.nn.Flatten(start_dim=2, end_dim=3),       # Output -> (32, 768, 196)\n",
    ")"
   ]
  },
  {
   "cell_type": "code",
   "execution_count": 101,
   "metadata": {},
   "outputs": [
    {
     "name": "stdout",
     "output_type": "stream",
     "text": [
      "Output shape: torch.Size([32, 768, 196]) -> (batch_dim, embedding_dims, num_patches)\n"
     ]
    }
   ],
   "source": [
    "patch_embeddings = embed_patch_processing(batch_X)\n",
    "print(f\"Output shape: {patch_embeddings.shape} -> (batch_dim, embedding_dims, num_patches)\")"
   ]
  },
  {
   "cell_type": "code",
   "execution_count": 102,
   "metadata": {},
   "outputs": [
    {
     "name": "stdout",
     "output_type": "stream",
     "text": [
      "Rearranged output shape: torch.Size([32, 196, 768]) -> (batch_dim, num_patches, embedding_dims)\n"
     ]
    }
   ],
   "source": [
    "# Rearrange the dimensions for better readability\n",
    "    # Change to -> (batch_dim, num_patches, embedding_dims)\n",
    "    #######################################################\n",
    "    # Number of datapoints in each batch -> batch_dim\n",
    "    # Number of patches in each datapoint -> num_patches\n",
    "    # Number of dimensions in each patch -> embedding_dims\n",
    "    #######################################################\n",
    "patch_embeddings = patch_embeddings.permute(0, 2, 1)\n",
    "print(f\"Rearranged output shape: {patch_embeddings.shape} -> (batch_dim, num_patches, embedding_dims)\")"
   ]
  },
  {
   "cell_type": "markdown",
   "metadata": {},
   "source": [
    "# Encoder Input (Prepend Class Embeddings)"
   ]
  },
  {
   "cell_type": "code",
   "execution_count": 103,
   "metadata": {},
   "outputs": [
    {
     "name": "stdout",
     "output_type": "stream",
     "text": [
      "Shape of class embedding to be prepended: torch.Size([32, 1, 768]) -> (batch_dim, num_patches, embedding_dims)\n"
     ]
    }
   ],
   "source": [
    "# Class embedding (Learnable embedding)\n",
    "class_embedding = torch.nn.Parameter(torch.randn(size=(BATCH_SIZE, 1, EMBED_DIMS)),\n",
    "                                     requires_grad=True)\n",
    "\n",
    "print(f\"Shape of class embedding to be prepended: {class_embedding.shape} -> (batch_dim, num_patches, embedding_dims)\")"
   ]
  },
  {
   "cell_type": "code",
   "execution_count": 104,
   "metadata": {},
   "outputs": [
    {
     "name": "stdout",
     "output_type": "stream",
     "text": [
      "Shape of the embeddings with patch and class embeddings together: torch.Size([32, 197, 768]) -> (batch_dim, num_embeddings, embedding_dims)\n"
     ]
    }
   ],
   "source": [
    "# Adding the class embedding\n",
    "embeddings = torch.cat([class_embedding, patch_embeddings], dim=1)\n",
    "\n",
    "print(f\"Shape of the embeddings with patch and class embeddings together: {embeddings.shape} -> (batch_dim, num_embeddings, embedding_dims)\")"
   ]
  },
  {
   "cell_type": "markdown",
   "metadata": {},
   "source": [
    "# Encoder Input (Positional Embeddings)"
   ]
  },
  {
   "cell_type": "code",
   "execution_count": 105,
   "metadata": {},
   "outputs": [
    {
     "name": "stdout",
     "output_type": "stream",
     "text": [
      "Shape of positional embeddings to be added: torch.Size([32, 197, 768]) -> (batch_dim, num_patches, embedding_dims)\n"
     ]
    }
   ],
   "source": [
    "# Positional embeddings\n",
    "positional_embeddings = torch.nn.Parameter(torch.randn(size=(BATCH_SIZE, NUM_PATCHES + 1, EMBED_DIMS)),\n",
    "                                                       requires_grad=True)\n",
    "\n",
    "print(f\"Shape of positional embeddings to be added: {positional_embeddings.shape} -> (batch_dim, num_patches, embedding_dims)\")"
   ]
  },
  {
   "cell_type": "code",
   "execution_count": 106,
   "metadata": {},
   "outputs": [],
   "source": [
    "# Adding the postional embeddings\n",
    "embeddings += positional_embeddings"
   ]
  }
 ],
 "metadata": {
  "kernelspec": {
   "display_name": ".replicating-vit",
   "language": "python",
   "name": "python3"
  },
  "language_info": {
   "codemirror_mode": {
    "name": "ipython",
    "version": 3
   },
   "file_extension": ".py",
   "mimetype": "text/x-python",
   "name": "python",
   "nbconvert_exporter": "python",
   "pygments_lexer": "ipython3",
   "version": "3.12.3"
  }
 },
 "nbformat": 4,
 "nbformat_minor": 2
}
