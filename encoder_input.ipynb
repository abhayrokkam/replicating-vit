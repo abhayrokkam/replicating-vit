{
 "cells": [
  {
   "cell_type": "code",
   "execution_count": 49,
   "metadata": {},
   "outputs": [],
   "source": [
    "import torch\n",
    "import torchvision\n",
    "\n",
    "from pathlib import Path"
   ]
  },
  {
   "cell_type": "code",
   "execution_count": 50,
   "metadata": {},
   "outputs": [],
   "source": [
    "# Device agnostic code\n",
    "device = 'cuda' if torch.cuda.is_available() else 'cpu'"
   ]
  },
  {
   "cell_type": "code",
   "execution_count": 51,
   "metadata": {},
   "outputs": [],
   "source": [
    "# Hyperparameters\n",
    "BATCH_SIZE = 32\n",
    "\n",
    "# Patches\n",
    "num_patches = (224 / 16) ** 2\n",
    "patch_size = (16, 16)\n",
    "\n",
    "# Patches to Embeddings\n",
    "embed_dims = 768"
   ]
  },
  {
   "cell_type": "markdown",
   "metadata": {},
   "source": [
    "# Data"
   ]
  },
  {
   "cell_type": "code",
   "execution_count": 52,
   "metadata": {},
   "outputs": [],
   "source": [
    "# Data paths\n",
    "data_path = Path('./data/desserts')\n",
    "train_path = data_path / 'train'\n",
    "test_path = data_path / 'test'"
   ]
  },
  {
   "cell_type": "code",
   "execution_count": 61,
   "metadata": {},
   "outputs": [
    {
     "name": "stdout",
     "output_type": "stream",
     "text": [
      "Drawing cannoli\n"
     ]
    },
    {
     "data": {
      "text/html": [
       "<div class=\"zoom\"><img style='width: 150px; height: 150px; margin: 1px; float: left; border: 0px solid black;'title=['cannoli'] src='data/desserts/train/cannoli/1506812.jpg'/></div><div class=\"zoom\"><img style='width: 150px; height: 150px; margin: 1px; float: left; border: 0px solid black;'title=['cannoli'] src='data/desserts/train/cannoli/2658779.jpg'/></div><div class=\"zoom\"><img style='width: 150px; height: 150px; margin: 1px; float: left; border: 0px solid black;'title=['cannoli'] src='data/desserts/train/cannoli/2057528.jpg'/></div><div class=\"zoom\"><img style='width: 150px; height: 150px; margin: 1px; float: left; border: 0px solid black;'title=['cannoli'] src='data/desserts/train/cannoli/18144.jpg'/></div><div class=\"zoom\"><img style='width: 150px; height: 150px; margin: 1px; float: left; border: 0px solid black;'title=['cannoli'] src='data/desserts/train/cannoli/2203432.jpg'/></div>"
      ],
      "text/plain": [
       "<IPython.core.display.HTML object>"
      ]
     },
     "metadata": {},
     "output_type": "display_data"
    },
    {
     "name": "stdout",
     "output_type": "stream",
     "text": [
      "Drawing donuts\n"
     ]
    },
    {
     "data": {
      "text/html": [
       "<div class=\"zoom\"><img style='width: 150px; height: 150px; margin: 1px; float: left; border: 0px solid black;'title=['donuts'] src='data/desserts/train/donuts/212751.jpg'/></div><div class=\"zoom\"><img style='width: 150px; height: 150px; margin: 1px; float: left; border: 0px solid black;'title=['donuts'] src='data/desserts/train/donuts/2227288.jpg'/></div><div class=\"zoom\"><img style='width: 150px; height: 150px; margin: 1px; float: left; border: 0px solid black;'title=['donuts'] src='data/desserts/train/donuts/448512.jpg'/></div><div class=\"zoom\"><img style='width: 150px; height: 150px; margin: 1px; float: left; border: 0px solid black;'title=['donuts'] src='data/desserts/train/donuts/1670061.jpg'/></div><div class=\"zoom\"><img style='width: 150px; height: 150px; margin: 1px; float: left; border: 0px solid black;'title=['donuts'] src='data/desserts/train/donuts/1040226.jpg'/></div>"
      ],
      "text/plain": [
       "<IPython.core.display.HTML object>"
      ]
     },
     "metadata": {},
     "output_type": "display_data"
    },
    {
     "name": "stdout",
     "output_type": "stream",
     "text": [
      "Drawing pancakes\n"
     ]
    },
    {
     "data": {
      "text/html": [
       "<div class=\"zoom\"><img style='width: 150px; height: 150px; margin: 1px; float: left; border: 0px solid black;'title=['pancakes'] src='data/desserts/train/pancakes/1735837.jpg'/></div><div class=\"zoom\"><img style='width: 150px; height: 150px; margin: 1px; float: left; border: 0px solid black;'title=['pancakes'] src='data/desserts/train/pancakes/2531057.jpg'/></div><div class=\"zoom\"><img style='width: 150px; height: 150px; margin: 1px; float: left; border: 0px solid black;'title=['pancakes'] src='data/desserts/train/pancakes/3166021.jpg'/></div><div class=\"zoom\"><img style='width: 150px; height: 150px; margin: 1px; float: left; border: 0px solid black;'title=['pancakes'] src='data/desserts/train/pancakes/3370191.jpg'/></div><div class=\"zoom\"><img style='width: 150px; height: 150px; margin: 1px; float: left; border: 0px solid black;'title=['pancakes'] src='data/desserts/train/pancakes/995060.jpg'/></div>"
      ],
      "text/plain": [
       "<IPython.core.display.HTML object>"
      ]
     },
     "metadata": {},
     "output_type": "display_data"
    },
    {
     "name": "stdout",
     "output_type": "stream",
     "text": [
      "Drawing tiramisu\n"
     ]
    },
    {
     "data": {
      "text/html": [
       "<div class=\"zoom\"><img style='width: 150px; height: 150px; margin: 1px; float: left; border: 0px solid black;'title=['tiramisu'] src='data/desserts/train/tiramisu/1985115.jpg'/></div><div class=\"zoom\"><img style='width: 150px; height: 150px; margin: 1px; float: left; border: 0px solid black;'title=['tiramisu'] src='data/desserts/train/tiramisu/2065625.jpg'/></div><div class=\"zoom\"><img style='width: 150px; height: 150px; margin: 1px; float: left; border: 0px solid black;'title=['tiramisu'] src='data/desserts/train/tiramisu/3031184.jpg'/></div><div class=\"zoom\"><img style='width: 150px; height: 150px; margin: 1px; float: left; border: 0px solid black;'title=['tiramisu'] src='data/desserts/train/tiramisu/3661347.jpg'/></div><div class=\"zoom\"><img style='width: 150px; height: 150px; margin: 1px; float: left; border: 0px solid black;'title=['tiramisu'] src='data/desserts/train/tiramisu/1236136.jpg'/></div>"
      ],
      "text/plain": [
       "<IPython.core.display.HTML object>"
      ]
     },
     "metadata": {},
     "output_type": "display_data"
    },
    {
     "name": "stdout",
     "output_type": "stream",
     "text": [
      "Drawing waffles\n"
     ]
    },
    {
     "data": {
      "text/html": [
       "<div class=\"zoom\"><img style='width: 150px; height: 150px; margin: 1px; float: left; border: 0px solid black;'title=['waffles'] src='data/desserts/train/waffles/1874115.jpg'/></div><div class=\"zoom\"><img style='width: 150px; height: 150px; margin: 1px; float: left; border: 0px solid black;'title=['waffles'] src='data/desserts/train/waffles/1733518.jpg'/></div><div class=\"zoom\"><img style='width: 150px; height: 150px; margin: 1px; float: left; border: 0px solid black;'title=['waffles'] src='data/desserts/train/waffles/2292418.jpg'/></div><div class=\"zoom\"><img style='width: 150px; height: 150px; margin: 1px; float: left; border: 0px solid black;'title=['waffles'] src='data/desserts/train/waffles/2084382.jpg'/></div><div class=\"zoom\"><img style='width: 150px; height: 150px; margin: 1px; float: left; border: 0px solid black;'title=['waffles'] src='data/desserts/train/waffles/2569188.jpg'/></div>"
      ],
      "text/plain": [
       "<IPython.core.display.HTML object>"
      ]
     },
     "metadata": {},
     "output_type": "display_data"
    }
   ],
   "source": [
    "# Visualizing images\n",
    "from easyimages import EasyImageList\n",
    "\n",
    "Li = EasyImageList.from_multilevel_folder(train_path)\n",
    "Li.html(sample = 5, size = 150)"
   ]
  },
  {
   "cell_type": "code",
   "execution_count": 54,
   "metadata": {},
   "outputs": [],
   "source": [
    "# Dataset transforms\n",
    "train_transform = torchvision.transforms.Compose(\n",
    "    [torchvision.transforms.Resize(size = (224, 224)),\n",
    "     torchvision.transforms.TrivialAugmentWide(num_magnitude_bins=31),\n",
    "     torchvision.transforms.ToTensor()]\n",
    ")\n",
    "\n",
    "test_transform = torchvision.transforms.Compose(\n",
    "    [torchvision.transforms.Resize(size = (224, 224)),\n",
    "     torchvision.transforms.ToTensor()]\n",
    ")\n",
    "\n",
    "# Datasets\n",
    "train_dataset = torchvision.datasets.ImageFolder(root=train_path,\n",
    "                                                 transform=train_transform,\n",
    "                                                 target_transform=None)\n",
    "\n",
    "test_dataset = torchvision.datasets.ImageFolder(root=test_path,\n",
    "                                                transform=test_transform,\n",
    "                                                target_transform=None)"
   ]
  },
  {
   "cell_type": "code",
   "execution_count": 55,
   "metadata": {},
   "outputs": [],
   "source": [
    "# Dataloaders\n",
    "train_dataloader = torch.utils.data.DataLoader(dataset=train_dataset,\n",
    "                                               batch_size=BATCH_SIZE,\n",
    "                                               shuffle=True,\n",
    "                                               pin_memory=True)\n",
    "\n",
    "test_dataloader = torch.utils.data.DataLoader(dataset=test_dataset,\n",
    "                                              batch_size=BATCH_SIZE,\n",
    "                                              shuffle=False,\n",
    "                                              pin_memory=True)"
   ]
  },
  {
   "cell_type": "markdown",
   "metadata": {},
   "source": [
    "# Encoder Input"
   ]
  },
  {
   "cell_type": "code",
   "execution_count": 60,
   "metadata": {},
   "outputs": [
    {
     "name": "stdout",
     "output_type": "stream",
     "text": [
      "Image shape: torch.Size([32, 3, 224, 224]) -> (batch_dim, color_channels, image_height, image_width)\n"
     ]
    }
   ],
   "source": [
    "batch_X, batch_y = next(iter(train_dataloader))\n",
    "batch_X.shape\n",
    "print(f\"Image shape: {batch_X.shape} -> (batch_dim, color_channels, image_height, image_width)\")"
   ]
  },
  {
   "cell_type": "code",
   "execution_count": null,
   "metadata": {},
   "outputs": [],
   "source": [
    "embed_processing = torch.nn.Sequential(\n",
    "    torch.nn.Conv2d(in_channels=3,                  # Input -> (32, 3, 224, 224)\n",
    "                    out_channels=embed_dims,\n",
    "                    kernel_size=patch_size,\n",
    "                    stride=patch_size),             # Output -> (32, 768, 14, 14)\n",
    "    torch.nn.Flatten(start_dim=2, end_dim=3),       # Output -> (32, 768, 196)\n",
    ")"
   ]
  },
  {
   "cell_type": "code",
   "execution_count": null,
   "metadata": {},
   "outputs": [
    {
     "name": "stdout",
     "output_type": "stream",
     "text": [
      "Image shape: torch.Size([32, 768, 196]) -> (batch_dim, color_channels, image_height, image_width)\n"
     ]
    }
   ],
   "source": [
    "embeddings = embed_processing(batch_X)\n",
    "print(f\"Image shape: {embeddings.shape} -> (batch_dim, embedding_dim, num_patches)\")"
   ]
  }
 ],
 "metadata": {
  "kernelspec": {
   "display_name": ".replicating-vit",
   "language": "python",
   "name": "python3"
  },
  "language_info": {
   "codemirror_mode": {
    "name": "ipython",
    "version": 3
   },
   "file_extension": ".py",
   "mimetype": "text/x-python",
   "name": "python",
   "nbconvert_exporter": "python",
   "pygments_lexer": "ipython3",
   "version": "3.12.3"
  }
 },
 "nbformat": 4,
 "nbformat_minor": 2
}
