{
 "cells": [
  {
   "cell_type": "code",
   "execution_count": 8,
   "metadata": {},
   "outputs": [],
   "source": [
    "import os\n",
    "import sys\n",
    "\n",
    "import torch\n",
    "\n",
    "from pathlib import Path\n",
    "\n",
    "super_directory = os.path.abspath('..')\n",
    "sys.path.append(super_directory)\n",
    "\n",
    "from data_setup import get_dataloaders"
   ]
  },
  {
   "cell_type": "code",
   "execution_count": 9,
   "metadata": {},
   "outputs": [],
   "source": [
    "# Device agnostic code\n",
    "device = 'cuda' if torch.cuda.is_available() else 'cpu'"
   ]
  },
  {
   "cell_type": "code",
   "execution_count": 10,
   "metadata": {},
   "outputs": [],
   "source": [
    "# Hyperparameters\n",
    "BATCH_SIZE = 32\n",
    "\n",
    "# Patches\n",
    "PATCH_SIZE = (16, 16)\n",
    "NUM_PATCHES = int((224 / 16) ** 2)\n",
    "\n",
    "# Patches to Embeddings\n",
    "EMBED_DIMS = 768"
   ]
  },
  {
   "cell_type": "markdown",
   "metadata": {},
   "source": [
    "# Data"
   ]
  },
  {
   "cell_type": "code",
   "execution_count": 11,
   "metadata": {},
   "outputs": [],
   "source": [
    "# Data paths\n",
    "data_path = Path('../data/desserts')\n",
    "train_path = data_path / 'train'\n",
    "test_path = data_path / 'test'"
   ]
  },
  {
   "cell_type": "code",
   "execution_count": 12,
   "metadata": {},
   "outputs": [
    {
     "name": "stdout",
     "output_type": "stream",
     "text": [
      "Drawing cannoli\n"
     ]
    },
    {
     "data": {
      "text/html": [
       "<div class=\"zoom\"><img style='width: 150px; height: 150px; margin: 1px; float: left; border: 0px solid black;'title=['cannoli'] src='../data/desserts/train/cannoli/671350.jpg'/></div><div class=\"zoom\"><img style='width: 150px; height: 150px; margin: 1px; float: left; border: 0px solid black;'title=['cannoli'] src='../data/desserts/train/cannoli/553447.jpg'/></div><div class=\"zoom\"><img style='width: 150px; height: 150px; margin: 1px; float: left; border: 0px solid black;'title=['cannoli'] src='../data/desserts/train/cannoli/308087.jpg'/></div><div class=\"zoom\"><img style='width: 150px; height: 150px; margin: 1px; float: left; border: 0px solid black;'title=['cannoli'] src='../data/desserts/train/cannoli/992416.jpg'/></div><div class=\"zoom\"><img style='width: 150px; height: 150px; margin: 1px; float: left; border: 0px solid black;'title=['cannoli'] src='../data/desserts/train/cannoli/3223312.jpg'/></div>"
      ],
      "text/plain": [
       "<IPython.core.display.HTML object>"
      ]
     },
     "metadata": {},
     "output_type": "display_data"
    },
    {
     "name": "stdout",
     "output_type": "stream",
     "text": [
      "Drawing donuts\n"
     ]
    },
    {
     "data": {
      "text/html": [
       "<div class=\"zoom\"><img style='width: 150px; height: 150px; margin: 1px; float: left; border: 0px solid black;'title=['donuts'] src='../data/desserts/train/donuts/790142.jpg'/></div><div class=\"zoom\"><img style='width: 150px; height: 150px; margin: 1px; float: left; border: 0px solid black;'title=['donuts'] src='../data/desserts/train/donuts/2446638.jpg'/></div><div class=\"zoom\"><img style='width: 150px; height: 150px; margin: 1px; float: left; border: 0px solid black;'title=['donuts'] src='../data/desserts/train/donuts/2893432.jpg'/></div><div class=\"zoom\"><img style='width: 150px; height: 150px; margin: 1px; float: left; border: 0px solid black;'title=['donuts'] src='../data/desserts/train/donuts/2215921.jpg'/></div><div class=\"zoom\"><img style='width: 150px; height: 150px; margin: 1px; float: left; border: 0px solid black;'title=['donuts'] src='../data/desserts/train/donuts/1270386.jpg'/></div>"
      ],
      "text/plain": [
       "<IPython.core.display.HTML object>"
      ]
     },
     "metadata": {},
     "output_type": "display_data"
    },
    {
     "name": "stdout",
     "output_type": "stream",
     "text": [
      "Drawing pancakes\n"
     ]
    },
    {
     "data": {
      "text/html": [
       "<div class=\"zoom\"><img style='width: 150px; height: 150px; margin: 1px; float: left; border: 0px solid black;'title=['pancakes'] src='../data/desserts/train/pancakes/3488375.jpg'/></div><div class=\"zoom\"><img style='width: 150px; height: 150px; margin: 1px; float: left; border: 0px solid black;'title=['pancakes'] src='../data/desserts/train/pancakes/3427782.jpg'/></div><div class=\"zoom\"><img style='width: 150px; height: 150px; margin: 1px; float: left; border: 0px solid black;'title=['pancakes'] src='../data/desserts/train/pancakes/2098034.jpg'/></div><div class=\"zoom\"><img style='width: 150px; height: 150px; margin: 1px; float: left; border: 0px solid black;'title=['pancakes'] src='../data/desserts/train/pancakes/2645684.jpg'/></div><div class=\"zoom\"><img style='width: 150px; height: 150px; margin: 1px; float: left; border: 0px solid black;'title=['pancakes'] src='../data/desserts/train/pancakes/1386325.jpg'/></div>"
      ],
      "text/plain": [
       "<IPython.core.display.HTML object>"
      ]
     },
     "metadata": {},
     "output_type": "display_data"
    },
    {
     "name": "stdout",
     "output_type": "stream",
     "text": [
      "Drawing tiramisu\n"
     ]
    },
    {
     "data": {
      "text/html": [
       "<div class=\"zoom\"><img style='width: 150px; height: 150px; margin: 1px; float: left; border: 0px solid black;'title=['tiramisu'] src='../data/desserts/train/tiramisu/3117714.jpg'/></div><div class=\"zoom\"><img style='width: 150px; height: 150px; margin: 1px; float: left; border: 0px solid black;'title=['tiramisu'] src='../data/desserts/train/tiramisu/355199.jpg'/></div><div class=\"zoom\"><img style='width: 150px; height: 150px; margin: 1px; float: left; border: 0px solid black;'title=['tiramisu'] src='../data/desserts/train/tiramisu/3082547.jpg'/></div><div class=\"zoom\"><img style='width: 150px; height: 150px; margin: 1px; float: left; border: 0px solid black;'title=['tiramisu'] src='../data/desserts/train/tiramisu/3067681.jpg'/></div><div class=\"zoom\"><img style='width: 150px; height: 150px; margin: 1px; float: left; border: 0px solid black;'title=['tiramisu'] src='../data/desserts/train/tiramisu/723789.jpg'/></div>"
      ],
      "text/plain": [
       "<IPython.core.display.HTML object>"
      ]
     },
     "metadata": {},
     "output_type": "display_data"
    },
    {
     "name": "stdout",
     "output_type": "stream",
     "text": [
      "Drawing waffles\n"
     ]
    },
    {
     "data": {
      "text/html": [
       "<div class=\"zoom\"><img style='width: 150px; height: 150px; margin: 1px; float: left; border: 0px solid black;'title=['waffles'] src='../data/desserts/train/waffles/278953.jpg'/></div><div class=\"zoom\"><img style='width: 150px; height: 150px; margin: 1px; float: left; border: 0px solid black;'title=['waffles'] src='../data/desserts/train/waffles/286912.jpg'/></div><div class=\"zoom\"><img style='width: 150px; height: 150px; margin: 1px; float: left; border: 0px solid black;'title=['waffles'] src='../data/desserts/train/waffles/1610272.jpg'/></div><div class=\"zoom\"><img style='width: 150px; height: 150px; margin: 1px; float: left; border: 0px solid black;'title=['waffles'] src='../data/desserts/train/waffles/3101937.jpg'/></div><div class=\"zoom\"><img style='width: 150px; height: 150px; margin: 1px; float: left; border: 0px solid black;'title=['waffles'] src='../data/desserts/train/waffles/1351305.jpg'/></div>"
      ],
      "text/plain": [
       "<IPython.core.display.HTML object>"
      ]
     },
     "metadata": {},
     "output_type": "display_data"
    }
   ],
   "source": [
    "# Visualizing images\n",
    "from easyimages import EasyImageList\n",
    "\n",
    "Li = EasyImageList.from_multilevel_folder(train_path)\n",
    "Li.html(sample = 5, size = 150)"
   ]
  },
  {
   "cell_type": "code",
   "execution_count": 13,
   "metadata": {},
   "outputs": [],
   "source": [
    "# Getting the dataloaders\n",
    "train_dataloader, test_dataloader, class_labels = get_dataloaders(train_path=train_path,\n",
    "                                                                  test_path=test_path,\n",
    "                                                                  batch_size=BATCH_SIZE)"
   ]
  },
  {
   "cell_type": "code",
   "execution_count": 14,
   "metadata": {},
   "outputs": [],
   "source": [
    "# Get X and y from the first batch\n",
    "batch_X, batch_y = next(iter(train_dataloader))"
   ]
  },
  {
   "cell_type": "markdown",
   "metadata": {},
   "source": [
    "# Encoder Input (Patch Embeddings)"
   ]
  },
  {
   "cell_type": "code",
   "execution_count": 15,
   "metadata": {},
   "outputs": [
    {
     "name": "stdout",
     "output_type": "stream",
     "text": [
      "Image shape: torch.Size([32, 3, 224, 224]) -> (batch_dim, color_channels, image_height, image_width)\n"
     ]
    }
   ],
   "source": [
    "print(f\"Image shape: {batch_X.shape} -> (batch_dim, color_channels, image_height, image_width)\")"
   ]
  },
  {
   "cell_type": "code",
   "execution_count": 16,
   "metadata": {},
   "outputs": [],
   "source": [
    "# Sequential block to process the flattened patches\n",
    "embed_patch_processing = torch.nn.Sequential(\n",
    "    torch.nn.Conv2d(in_channels=3,                  # Input -> (32, 3, 224, 224)\n",
    "                    out_channels=EMBED_DIMS,\n",
    "                    kernel_size=PATCH_SIZE,\n",
    "                    stride=PATCH_SIZE),             # Output -> (32, 768, 14, 14)\n",
    "    torch.nn.Flatten(start_dim=2, end_dim=3),       # Output -> (32, 768, 196)\n",
    ")"
   ]
  },
  {
   "cell_type": "code",
   "execution_count": 17,
   "metadata": {},
   "outputs": [
    {
     "name": "stdout",
     "output_type": "stream",
     "text": [
      "Output shape: torch.Size([32, 768, 196]) -> (batch_dim, embedding_dims, num_patches)\n"
     ]
    }
   ],
   "source": [
    "# Verifying the output of flattened patches\n",
    "patch_embeddings = embed_patch_processing(batch_X)\n",
    "print(f\"Output shape: {patch_embeddings.shape} -> (batch_dim, embedding_dims, num_patches)\")"
   ]
  },
  {
   "cell_type": "code",
   "execution_count": 18,
   "metadata": {},
   "outputs": [
    {
     "name": "stdout",
     "output_type": "stream",
     "text": [
      "Rearranged output shape: torch.Size([32, 196, 768]) -> (batch_dim, num_patches, embedding_dims)\n"
     ]
    }
   ],
   "source": [
    "# Rearrange the dimensions for better readability\n",
    "    # Change to -> (batch_dim, num_patches, embedding_dims)\n",
    "    #######################################################\n",
    "    # Number of datapoints in each batch -> batch_dim\n",
    "    # Number of patches in each datapoint -> num_patches\n",
    "    # Number of dimensions in each patch -> embedding_dims\n",
    "    #######################################################\n",
    "patch_embeddings = patch_embeddings.permute(0, 2, 1)\n",
    "print(f\"Rearranged output shape: {patch_embeddings.shape} -> (batch_dim, num_patches, embedding_dims)\")"
   ]
  },
  {
   "cell_type": "markdown",
   "metadata": {},
   "source": [
    "# Encoder Input (Prepend Class Embeddings)"
   ]
  },
  {
   "cell_type": "code",
   "execution_count": 19,
   "metadata": {},
   "outputs": [
    {
     "name": "stdout",
     "output_type": "stream",
     "text": [
      "Shape of class embedding to be prepended: torch.Size([32, 1, 768]) -> (batch_dim, num_patches, embedding_dims)\n"
     ]
    }
   ],
   "source": [
    "# Class embedding (Learnable embedding)\n",
    "class_embedding = torch.nn.Parameter(torch.randn(size=(1, EMBED_DIMS)),\n",
    "                                     requires_grad=True)\n",
    "\n",
    "# Expanding same rand numbers across all data in a batch\n",
    "class_embedding = class_embedding.expand(BATCH_SIZE, -1, -1)\n",
    "\n",
    "print(f\"Shape of class embedding to be prepended: {class_embedding.shape} -> (batch_dim, num_patches, embedding_dims)\")"
   ]
  },
  {
   "cell_type": "code",
   "execution_count": 20,
   "metadata": {},
   "outputs": [
    {
     "name": "stdout",
     "output_type": "stream",
     "text": [
      "Shape of the embeddings with patch and class embeddings together: torch.Size([32, 197, 768]) -> (batch_dim, num_embeddings, embedding_dims)\n"
     ]
    }
   ],
   "source": [
    "# Adding the class embedding\n",
    "embeddings = torch.cat([class_embedding, patch_embeddings], dim=1)\n",
    "\n",
    "print(f\"Shape of the embeddings with patch and class embeddings together: {embeddings.shape} -> (batch_dim, num_embeddings, embedding_dims)\")"
   ]
  },
  {
   "cell_type": "markdown",
   "metadata": {},
   "source": [
    "# Encoder Input (Positional Embeddings)"
   ]
  },
  {
   "cell_type": "code",
   "execution_count": 21,
   "metadata": {},
   "outputs": [
    {
     "name": "stdout",
     "output_type": "stream",
     "text": [
      "Shape of positional embeddings to be added: torch.Size([32, 197, 768]) -> (batch_dim, num_patches, embedding_dims)\n"
     ]
    }
   ],
   "source": [
    "# Positional embeddings\n",
    "positional_embeddings = torch.nn.Parameter(torch.randn(size=(NUM_PATCHES + 1, EMBED_DIMS)),\n",
    "                                                       requires_grad=True)\n",
    "\n",
    "# Expanding same rand numbers across all data in a batch\n",
    "positional_embeddings = positional_embeddings.expand(size=(BATCH_SIZE, -1, -1))\n",
    "\n",
    "print(f\"Shape of positional embeddings to be added: {positional_embeddings.shape} -> (batch_dim, num_patches, embedding_dims)\")"
   ]
  },
  {
   "cell_type": "code",
   "execution_count": 22,
   "metadata": {},
   "outputs": [],
   "source": [
    "# Adding the postional embeddings\n",
    "embeddings += positional_embeddings"
   ]
  }
 ],
 "metadata": {
  "kernelspec": {
   "display_name": ".replicating-vit",
   "language": "python",
   "name": "python3"
  },
  "language_info": {
   "codemirror_mode": {
    "name": "ipython",
    "version": 3
   },
   "file_extension": ".py",
   "mimetype": "text/x-python",
   "name": "python",
   "nbconvert_exporter": "python",
   "pygments_lexer": "ipython3",
   "version": "3.12.3"
  }
 },
 "nbformat": 4,
 "nbformat_minor": 2
}
